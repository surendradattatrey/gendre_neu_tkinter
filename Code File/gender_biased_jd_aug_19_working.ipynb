{
 "cells": [
  {
   "cell_type": "code",
   "execution_count": 96,
   "metadata": {},
   "outputs": [],
   "source": [
    "import random\n",
    "import nltk\n",
    "from nltk.tokenize import sent_tokenize, word_tokenize \n",
    "from nltk.corpus import stopwords\n",
    "import numpy\n",
    "import pandas as pd\n"
   ]
  },
  {
   "cell_type": "code",
   "execution_count": 97,
   "metadata": {},
   "outputs": [],
   "source": [
    "stop_words = set(stopwords.words('english')) "
   ]
  },
  {
   "cell_type": "code",
   "execution_count": 149,
   "metadata": {},
   "outputs": [],
   "source": [
    "###### Loading Open Job Req file #######\n",
    "try:    \n",
    "    Job_details = pd.read_csv ('C:/Users/surendra_dattatrey/Desktop/S&P Data/Gender Neutral JD/Open_req - without_locations.csv', encoding='cp1252')\n",
    "except Exception as e:\n",
    "    print(sys.exc_info()[0])\n",
    "    print(e)\n",
    "    sys.exit(\"Please put Job Description file on desired location\")"
   ]
  },
  {
   "cell_type": "code",
   "execution_count": 150,
   "metadata": {},
   "outputs": [],
   "source": [
    "###### Loading Gender score file #######\n",
    "try:\n",
    "    gender_score = pd.read_csv(r'C:\\Users\\surendra_dattatrey\\Desktop\\S&P Data\\Gender Neutral JD\\POS_gender_score.csv')\n",
    "except Exception as e:\n",
    "    print(sys.exc_info()[0])\n",
    "    print(e)\n",
    "    sys.exit(\"Please put Scoring file on desired location\")"
   ]
  },
  {
   "cell_type": "code",
   "execution_count": 151,
   "metadata": {},
   "outputs": [],
   "source": [
    "df = Job_details \n"
   ]
  },
  {
   "cell_type": "code",
   "execution_count": 152,
   "metadata": {},
   "outputs": [
    {
     "name": "stdout",
     "output_type": "stream",
     "text": [
      "JD found in loop 2\n",
      "JD found in loop 2\n",
      "JD found in loop 2\n",
      "JD found in loop 2\n"
     ]
    },
    {
     "name": "stderr",
     "output_type": "stream",
     "text": [
      "C:\\ProgramData\\Anaconda3\\lib\\site-packages\\ipykernel_launcher.py:16: SettingWithCopyWarning: \n",
      "A value is trying to be set on a copy of a slice from a DataFrame\n",
      "\n",
      "See the caveats in the documentation: http://pandas.pydata.org/pandas-docs/stable/indexing.html#indexing-view-versus-copy\n",
      "  app.launch_new_instance()\n"
     ]
    }
   ],
   "source": [
    "##### Removing particular string which might occur in JD and not required\n",
    "for counter in range(len(Job_details)):\n",
    "    jd_summary = df['Job Description'][counter]\n",
    "    #def check(string, sub_str): \n",
    "    if (jd_summary.find(\"associated with his or her assessments\") != -1): \n",
    "        #print(\"YES\") \n",
    "        jd_summary = jd_summary.replace('associated with his or her assessments',' ')  \n",
    "        df['Job Description'][counter] = jd_summary \n",
    "        print (\"JD found in loop 1\")\n",
    "    #else: \n",
    "    #   print(\"NO\")   \n",
    "    \n",
    "    if (jd_summary.find(\"any other characteristic that has no bearing on a person’s ability to perform his or her job\") != -1): \n",
    "        #print(\"YES\") \n",
    "        jd_summary = jd_summary.replace('any other characteristic that has no bearing on a person’s ability to perform his or her job',' ') \n",
    "        df['Job Description'][counter] = jd_summary \n",
    "        print (\"JD found in loop 2\")"
   ]
  },
  {
   "cell_type": "code",
   "execution_count": 153,
   "metadata": {},
   "outputs": [],
   "source": [
    "for i in range(len(Job_details)):\n",
    "    #print(i)\n",
    "    data = Job_details['Job Description']\n",
    "    #data = data.to_frame()\n",
    "    #data['Job Description']= data['Job Description'].apply(str)\n",
    "    df['Job_Description'] = pd.DataFrame(data.str.split(\"\\n\"))\n",
    "    df['job_desc_clean'] = df['Job Description'].apply(str).replace('[^a-zA-Z0-9 ]', '', regex=True)\n",
    "    df['job_desc_clean']= df['job_desc_clean'].str.lower()   \n",
    "#df"
   ]
  },
  {
   "cell_type": "code",
   "execution_count": 154,
   "metadata": {},
   "outputs": [],
   "source": [
    "## Word Tokenization process and finding biasness\n",
    "for x in range(len(Job_details)):\n",
    "    df['job_description_tokenized'] = df['job_desc_clean'].apply(word_tokenize)\n",
    "    #df['job_description_tokenized'] = df['job_description_tokenized'].apply(lambda x: [item for item in x if item not in stop_words])  "
   ]
  },
  {
   "cell_type": "code",
   "execution_count": 155,
   "metadata": {},
   "outputs": [],
   "source": [
    "score_cnt=[]\n",
    "for a in range(len(Job_details)):\n",
    "    df['job_description_tokenized_tokens'] = df['job_description_tokenized'].tolist()\n",
    "    word_lst = df['job_description_tokenized'][a]\n",
    "    #print(word_lst)\n",
    "    word_list=[]\n",
    "    for i in range(len(word_lst)): \n",
    "      \n",
    "        if word_lst[i][0].isalpha():\n",
    "            word_list.append(word_lst[i])\n",
    "            \n",
    "    tagged_tokens=[]\n",
    "    for token in word_lst:\n",
    "      \n",
    "        tagged_tokens.append(nltk.pos_tag([token]))\n",
    "        #print(token)\n",
    "    import itertools\n",
    "    merged = list(itertools.chain(*tagged_tokens))\n",
    "    \n",
    "    dfObj = pd.DataFrame(merged) \n",
    "    dfObj.columns = ['Token', 'POS']\n",
    "    \n",
    "    dfObj_filtered = dfObj[(dfObj.POS == 'NN')| (dfObj.POS == 'NNP')| (dfObj.POS == 'PRP') | (dfObj.POS =='PRP$')]\n",
    "    df_cd = pd.merge(dfObj_filtered, gender_score, how='inner', on = 'Token')\n",
    "    df_cd_filter = df_cd[df_cd['Score'] > 0]\n",
    "\n",
    "    biased_tokens = df_cd_filter['Token']\n",
    "    len_data = len(df['job_description_tokenized'])\n",
    "    para_location = []\n",
    "    for x in range(len(df.index)):\n",
    "        for a in (df['job_description_tokenized'].iloc[x]):\n",
    "            #print(x,a)\n",
    "            for b in biased_tokens: \n",
    "                if(a == b):              \n",
    "                    para_location.append(x) \n",
    "    Total = df_cd['Score'].sum()\n",
    "    score_cnt.append(Total)\n",
    "    #df['Job_desc_biased_tokens']= list (biased_tokens)\n",
    "    \n",
    "    \n",
    "#score_cnt_df=score_cnt.to_dataFrame()\n",
    "\n",
    "#df\n",
    "    "
   ]
  },
  {
   "cell_type": "code",
   "execution_count": 156,
   "metadata": {},
   "outputs": [],
   "source": [
    "scr_cnt=pd.DataFrame(score_cnt)\n",
    "df['score_count']=scr_cnt\n",
    "biased_jd = df[df['score_count']>0]"
   ]
  },
  {
   "cell_type": "code",
   "execution_count": 157,
   "metadata": {},
   "outputs": [
    {
     "data": {
      "text/plain": [
       "Job Requisition ID                  0\n",
       "Job Description                     0\n",
       "Job_Description                     0\n",
       "job_desc_clean                      0\n",
       "job_description_tokenized           0\n",
       "job_description_tokenized_tokens    0\n",
       "score_count                         0\n",
       "dtype: int64"
      ]
     },
     "execution_count": 157,
     "metadata": {},
     "output_type": "execute_result"
    }
   ],
   "source": [
    "biased_jd.count()"
   ]
  },
  {
   "cell_type": "code",
   "execution_count": 158,
   "metadata": {},
   "outputs": [
    {
     "data": {
      "text/html": [
       "<div>\n",
       "<style scoped>\n",
       "    .dataframe tbody tr th:only-of-type {\n",
       "        vertical-align: middle;\n",
       "    }\n",
       "\n",
       "    .dataframe tbody tr th {\n",
       "        vertical-align: top;\n",
       "    }\n",
       "\n",
       "    .dataframe thead th {\n",
       "        text-align: right;\n",
       "    }\n",
       "</style>\n",
       "<table border=\"1\" class=\"dataframe\">\n",
       "  <thead>\n",
       "    <tr style=\"text-align: right;\">\n",
       "      <th></th>\n",
       "      <th>Job Requisition ID</th>\n",
       "      <th>Job Description</th>\n",
       "      <th>Job_Description</th>\n",
       "      <th>job_desc_clean</th>\n",
       "      <th>job_description_tokenized</th>\n",
       "      <th>job_description_tokenized_tokens</th>\n",
       "      <th>score_count</th>\n",
       "    </tr>\n",
       "  </thead>\n",
       "  <tbody>\n",
       "  </tbody>\n",
       "</table>\n",
       "</div>"
      ],
      "text/plain": [
       "Empty DataFrame\n",
       "Columns: [Job Requisition ID, Job Description, Job_Description, job_desc_clean, job_description_tokenized, job_description_tokenized_tokens, score_count]\n",
       "Index: []"
      ]
     },
     "execution_count": 158,
     "metadata": {},
     "output_type": "execute_result"
    }
   ],
   "source": [
    "df[df['score_count']>0]"
   ]
  },
  {
   "cell_type": "code",
   "execution_count": null,
   "metadata": {},
   "outputs": [],
   "source": []
  }
 ],
 "metadata": {
  "kernelspec": {
   "display_name": "Python 3",
   "language": "python",
   "name": "python3"
  },
  "language_info": {
   "codemirror_mode": {
    "name": "ipython",
    "version": 3
   },
   "file_extension": ".py",
   "mimetype": "text/x-python",
   "name": "python",
   "nbconvert_exporter": "python",
   "pygments_lexer": "ipython3",
   "version": "3.7.3"
  }
 },
 "nbformat": 4,
 "nbformat_minor": 2
}
